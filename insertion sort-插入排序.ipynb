{
 "cells": [
  {
   "cell_type": "code",
   "execution_count": 3,
   "metadata": {},
   "outputs": [
    {
     "data": {
      "text/plain": [
       "[1, 2, 3, 4, 5, 6]"
      ]
     },
     "execution_count": 3,
     "metadata": {},
     "output_type": "execute_result"
    }
   ],
   "source": [
    "'''插入排序2.1'''\n",
    "def insertion_sort(a):\n",
    "    for j in range(1,len(a)):\n",
    "        key=a[j]\n",
    "        i=j-1\n",
    "        while i>=0 and a[i]>key:\n",
    "            a[i+1]=a[i]\n",
    "            i=i-1\n",
    "        a[i+1]=key\n",
    "    return a\n",
    "a=[5,2,4,6,1,3]\n",
    "insertion_sort(a)"
   ]
  },
  {
   "cell_type": "code",
   "execution_count": 24,
   "metadata": {},
   "outputs": [
    {
     "data": {
      "text/plain": [
       "[1, 2, 3, 3, 4, 5, 6, 8]"
      ]
     },
     "execution_count": 24,
     "metadata": {},
     "output_type": "execute_result"
    }
   ],
   "source": [
    "'''2.1-practice-练习'''\n",
    "'''插入排序2.1升序'''\n",
    "def insertion_sort(a):\n",
    "    for j in range(1,len(a)):\n",
    "        key=a[j]\n",
    "        i=0\n",
    "        while i>=0 and a[i]<key and i<j:\n",
    "            i=i+1\n",
    "        for m in range(j-1,i-1,-1):\n",
    "            a[m+1]=a[m]\n",
    "        a[i]=key\n",
    "    return a\n",
    "a=[5,2,4,6,1,3,8,3]\n",
    "insertion_sort(a)"
   ]
  },
  {
   "cell_type": "code",
   "execution_count": 32,
   "metadata": {},
   "outputs": [
    {
     "data": {
      "text/plain": [
       "'NIL'"
      ]
     },
     "execution_count": 32,
     "metadata": {},
     "output_type": "execute_result"
    }
   ],
   "source": [
    "'''2.1-practice-练习'''\n",
    "'''查找问题'''\n",
    "def search(a,target):\n",
    "    for i in range(len(a)):\n",
    "        if a[i]==target:\n",
    "            v='target=a['+str(i)+ ']'\n",
    "            return v\n",
    "    v='NIL'\n",
    "    return v##函数只能使用一个返回，但可以同时返回多个值\n",
    "a=[5,2,4,6,1,3]\n",
    "search(a,8)"
   ]
  },
  {
   "cell_type": "code",
   "execution_count": 122,
   "metadata": {
    "scrolled": true
   },
   "outputs": [
    {
     "name": "stdout",
     "output_type": "stream",
     "text": [
      "[0, 0, 0, 1, 1, 1]\n",
      "[1, 0, 1, 1, 0, 0, 1]\n",
      "[1, 0, 1, 0, 0, 0, 0, 1]\n",
      "133\n",
      "133\n"
     ]
    }
   ],
   "source": [
    "'''2.1.4二进制遍历'''\n",
    "bin_a=bin(56).replace('0b','')\n",
    "bin_b=bin(77).replace('0b','')\n",
    "a=[int(i) for i in bin_a][::-1]\n",
    "b=[int(i) for i in bin_b][::-1]\n",
    "c=[]\n",
    "for i in range(min(len(a),len(b))):\n",
    "    c.append(a[i]+b[i])\n",
    "if len(a)>len(b):\n",
    "    c=c+a[len(b):len(a)]\n",
    "elif len(a)<len(b):\n",
    "    c=c+b[len(a):len(b)]\n",
    "else:\n",
    "    c=c\n",
    "for i in range(len(c)):\n",
    "    if c[i]==2 and i<len(c)-1:\n",
    "        c[i+1]=c[i+1]+1\n",
    "        c[i]=0\n",
    "    elif c[i]==3 and i<len(c)-1:\n",
    "        c[i+1]=c[i+1]+1\n",
    "        c[i]=1\n",
    "    elif c[i]==2 and i==len(c)-1:\n",
    "        c[i]=0\n",
    "        c.append(1)\n",
    "    elif c[i]==3 and i==len(c)-1:\n",
    "        c[i]=1\n",
    "        c.append(1)\n",
    "value=0\n",
    "for i in range(len(c)):\n",
    "    value+=(2**i)*c[i]  \n",
    "print(a)\n",
    "print(b)\n",
    "print(c)\n",
    "print(value)\n",
    "print(56+77)"
   ]
  },
  {
   "cell_type": "code",
   "execution_count": null,
   "metadata": {},
   "outputs": [],
   "source": []
  }
 ],
 "metadata": {
  "kernelspec": {
   "display_name": "Python 3",
   "language": "python",
   "name": "python3"
  },
  "language_info": {
   "codemirror_mode": {
    "name": "ipython",
    "version": 3
   },
   "file_extension": ".py",
   "mimetype": "text/x-python",
   "name": "python",
   "nbconvert_exporter": "python",
   "pygments_lexer": "ipython3",
   "version": "3.6.8"
  }
 },
 "nbformat": 4,
 "nbformat_minor": 2
}
