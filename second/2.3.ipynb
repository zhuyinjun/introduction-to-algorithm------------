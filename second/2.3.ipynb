{
 "cells": [
  {
   "cell_type": "code",
   "execution_count": 1,
   "metadata": {},
   "outputs": [
    {
     "data": {
      "text/plain": [
       "[1, 2, 3, 4, 5, 6, 8, 9, 11, 21, 44]"
      ]
     },
     "execution_count": 1,
     "metadata": {},
     "output_type": "execute_result"
    }
   ],
   "source": [
    "#2.3.2没有哨兵的merge,归并排序**************\n",
    "def merge(a_l,a_r):\n",
    "    a=[]\n",
    "    i=0\n",
    "    j=0\n",
    "    while i<len(a_l) or j<len(a_r):\n",
    "        if i>=len(a_l):\n",
    "            a=a+a_r[j:len(a_r)]\n",
    "            break\n",
    "        if j>=len(a_r):\n",
    "            a=a+a_l[i:len(a_l)]\n",
    "            break\n",
    "        if a_l[i]>a_r[j]:\n",
    "            a.append(a_r[j])\n",
    "            j=j+1\n",
    "        else:\n",
    "            a.append(a_l[i])\n",
    "            i=i+1\n",
    "    return a\n",
    "def merge_sort(a):\n",
    "    index=len(a)//2\n",
    "    if index<1:\n",
    "        return a\n",
    "    return merge(merge_sort(a[:index]),merge_sort(a[index:]))\n",
    "a=[5,2,4,6,1,3,9,8,21,44,11]\n",
    "merge_sort(a)   "
   ]
  },
  {
   "cell_type": "code",
   "execution_count": 3,
   "metadata": {},
   "outputs": [
    {
     "data": {
      "text/plain": [
       "'NIL'"
      ]
     },
     "execution_count": 3,
     "metadata": {},
     "output_type": "execute_result"
    }
   ],
   "source": [
    "#2.3.5查找问题二分法，a已排序\n",
    "a=[1, 2, 3, 4, 5, 6, 8, 9, 11, 21, 44]\n",
    "def serach_two(a,target):\n",
    "    c=len(a)//2\n",
    "    if c<1:\n",
    "        v='NIL'\n",
    "        return v\n",
    "    elif target>a[c]:\n",
    "        return serach_two(a[c:],target)\n",
    "    elif target<a[c]:\n",
    "        return serach_two(a[:c],target)\n",
    "    elif target==a[c]:\n",
    "        m='target is in a'\n",
    "        return m\n",
    "serach_two(a,10)\n",
    "#对于树结构我们可知T=T(n/2)+theta(1),最坏运行时间为theta(lg(n))"
   ]
  },
  {
   "cell_type": "code",
   "execution_count": 57,
   "metadata": {
    "scrolled": false
   },
   "outputs": [
    {
     "data": {
      "text/plain": [
       "[1, 2, 3, 4, 5, 6, 8, 8, 9, 11, 21, 44]"
      ]
     },
     "execution_count": 57,
     "metadata": {},
     "output_type": "execute_result"
    }
   ],
   "source": [
    "#2.3.6insert_sort,其中比较用二分法查找，对于无重复数组\n",
    "def serach_two_insert(a,target):\n",
    "    high=len(a)-1\n",
    "    low=0\n",
    "    if a[high]<target:\n",
    "        a=a+[target,]\n",
    "        return a\n",
    "    elif a[low]>target:\n",
    "        a=[target,]+a\n",
    "        return a\n",
    "    elif high-low==1:\n",
    "        a=a[:1]+[target,]+a[1:]\n",
    "        return a\n",
    "    while high-low>1:\n",
    "        c=(high+low)//2\n",
    "        if target>a[c]:\n",
    "            low=c\n",
    "        else:\n",
    "            high=c\n",
    "    a=a[:(low+1)]+[target,]+a[high:]\n",
    "    return a\n",
    "def insert_sort(a):\n",
    "    b=[a[0],]\n",
    "    for i in range(1,len(a)):\n",
    "        b=serach_two_insert(b,a[i])\n",
    "    return b\n",
    "a=[5,2,4,6,1,3,9,8,21,44,11,8]\n",
    "insert_sort(a)\n",
    "#注意二分法插入不能用分块列表改变其属性，改变索引所以来达到二分的效果有递归树可知，对于n的树高为lg(n),\n",
    "#对于二分法的运行时间为theta(lg(n))所以有二分法插入排序有lg(n)+lg(n-1)+lg(n-2)+....lg(2)==lg(n(n-1)(n-2)...1)\n",
    "#==lg(n^n)==nlg(n)所以有最坏总运行时间O(nlg(n))"
   ]
  },
  {
   "cell_type": "code",
   "execution_count": 72,
   "metadata": {},
   "outputs": [
    {
     "name": "stdout",
     "output_type": "stream",
     "text": [
      "yes\n"
     ]
    }
   ],
   "source": [
    "#2.3.7，集合的无序性\n",
    "def serach_two_insert(a,target):\n",
    "    high=len(a)-1\n",
    "    low=0\n",
    "    if a[high]<target:\n",
    "        a=a+[target,]\n",
    "        return a\n",
    "    elif a[low]>target:\n",
    "        a=[target,]+a\n",
    "        return a\n",
    "    elif high-low==1:\n",
    "        a=a[:1]+[target,]+a[1:]\n",
    "        return a\n",
    "    while high-low>1:\n",
    "        c=(high+low)//2\n",
    "        if target>a[c]:\n",
    "            low=c\n",
    "        else:\n",
    "            high=c\n",
    "    a=a[:(low+1)]+[target,]+a[high:]\n",
    "    return a\n",
    "def insert_sort(a):\n",
    "    b=[a[0],]\n",
    "    for i in range(1,len(a)):\n",
    "        b=serach_two_insert(b,a[i])\n",
    "    return b\n",
    "def serach_two(a,target):\n",
    "    c=len(a)//2\n",
    "    if c<1:\n",
    "        return 0\n",
    "    elif target>a[c]:\n",
    "        return serach_two(a[c:],target)\n",
    "    elif target<a[c]:\n",
    "        return serach_two(a[:c],target)\n",
    "    elif target==a[c]:\n",
    "        return 1\n",
    "def serch_x(set_in,x):\n",
    "    set_in=insert_sort(set_in)\n",
    "    for i in range(len(set_in)):\n",
    "        value=x-set_in[i]\n",
    "        set_s=set_in[(i+1):]\n",
    "        result=serach_two(set_s,value)\n",
    "        if result==1:\n",
    "            return 'yes'\n",
    "    return 'no'\n",
    "if __name__=='__main__':\n",
    "    a=[5,2,4,6,1,3,9,8,21,44,11,8]\n",
    "    print(serch_x(a,4))\n",
    "#注意return，和没有return时不要break循环\n",
    "#时间为，排序+遍历+二分法查找==nlg(n)+nlg(n)==nlg(n),运行时间为theta(nlg(n))"
   ]
  },
  {
   "cell_type": "code",
   "execution_count": null,
   "metadata": {},
   "outputs": [],
   "source": []
  }
 ],
 "metadata": {
  "kernelspec": {
   "display_name": "Python 3",
   "language": "python",
   "name": "python3"
  },
  "language_info": {
   "codemirror_mode": {
    "name": "ipython",
    "version": 3
   },
   "file_extension": ".py",
   "mimetype": "text/x-python",
   "name": "python",
   "nbconvert_exporter": "python",
   "pygments_lexer": "ipython3",
   "version": "3.6.8"
  }
 },
 "nbformat": 4,
 "nbformat_minor": 2
}
