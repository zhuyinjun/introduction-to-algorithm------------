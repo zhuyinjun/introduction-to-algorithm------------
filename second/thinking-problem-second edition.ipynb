{
 "cells": [
  {
   "cell_type": "code",
   "execution_count": 5,
   "metadata": {},
   "outputs": [
    {
     "data": {
      "text/plain": [
       "[1, 2, 3, 4, 5, 6, 8, 8, 9, 11, 21, 44]"
      ]
     },
     "execution_count": 5,
     "metadata": {},
     "output_type": "execute_result"
    }
   ],
   "source": [
    "#2.2bubblesort\n",
    "def bubble_sort(a):\n",
    "    for i in range(len(a)):\n",
    "        for j in range(1,len(a)-i):\n",
    "            if a[j-1]>=a[j]:\n",
    "                a[j],a[j-1]=a[j-1],a[j]\n",
    "    return a\n",
    "a=[5,2,4,6,1,3,9,8,21,44,11,8]\n",
    "bubble_sort(a)\n",
    "#其运行时间为theta(n^2)与插入一样，比较简单，空间复杂度较低，是稳定的"
   ]
  },
  {
   "cell_type": "code",
   "execution_count": 12,
   "metadata": {},
   "outputs": [
    {
     "name": "stdout",
     "output_type": "stream",
     "text": [
      "4048880417\n",
      "4048880417\n"
     ]
    }
   ],
   "source": [
    "#2.3对于列表a与x\n",
    "#朴素算P(x)=sum(a(i)x),theta(n^3)\n",
    "def d_p(a,x):\n",
    "    value=0\n",
    "    for i in range(len(a)):\n",
    "        value+=a[i]*(x**i)\n",
    "    return value\n",
    "a=[5,2,4,6,1,3,9,8,21,44,11,8]\n",
    "x=6\n",
    "d_p(a,x)\n",
    "#霍纳方法 theta(n)\n",
    "def h_p(a,x):\n",
    "    value=0\n",
    "    for i in range(len(a)-1,-1,-1):\n",
    "        value=a[i]+x*value\n",
    "    return value\n",
    "print(h_p(a,x))\n",
    "print(d_p(a,x))"
   ]
  },
  {
   "cell_type": "code",
   "execution_count": 22,
   "metadata": {},
   "outputs": [
    {
     "data": {
      "text/plain": [
       "([1, 2, 3, 4, 5, 6, 8, 9, 11, 21, 44], 12)"
      ]
     },
     "execution_count": 22,
     "metadata": {},
     "output_type": "execute_result"
    }
   ],
   "source": [
    "#2.4,这个题重要，多思考函数递归问题\n",
    "def InversionNum(lst):\n",
    "    # 改写归并排序,在归并排序中，每当R部分元素先于L部分元素插入原列表时，逆序对数要加L剩余元素数\n",
    "    if len(lst) == 1:\n",
    "        return lst,0\n",
    "    else:\n",
    "        n = len(lst) // 2\n",
    "        lst1,count1 = InversionNum(lst[0:n])\n",
    "        lst2,count2 = InversionNum(lst[n:len(lst)])\n",
    "        lst,count = Count(lst1,lst2,0)\n",
    "        return lst,count1+count2+count\n",
    "def Count(lst1, lst2,count): \n",
    "    i = 0\n",
    "    j = 0\n",
    "    res = []\n",
    "    while i < len(lst1) and j < len(lst2):\n",
    "        if lst1[i] <= lst2[j]:\n",
    "            res.append(lst1[i])\n",
    "            i += 1\n",
    "        else:\n",
    "            res.append(lst2[j])\n",
    "            count += len(lst1)-i # 当右半部分的元素先于左半部分元素进入有序列表时，逆序对数量增加左半部分剩余的元素数\n",
    "            j += 1\n",
    "    res += lst1[i:]\n",
    "    res += lst2[j:]\n",
    "    return res,count\n",
    "a=[5,2,4,6,1,3,9,8,21,44,11]\n",
    "InversionNum(a)"
   ]
  },
  {
   "cell_type": "code",
   "execution_count": null,
   "metadata": {},
   "outputs": [],
   "source": []
  }
 ],
 "metadata": {
  "kernelspec": {
   "display_name": "Python 3",
   "language": "python",
   "name": "python3"
  },
  "language_info": {
   "codemirror_mode": {
    "name": "ipython",
    "version": 3
   },
   "file_extension": ".py",
   "mimetype": "text/x-python",
   "name": "python",
   "nbconvert_exporter": "python",
   "pygments_lexer": "ipython3",
   "version": "3.6.8"
  }
 },
 "nbformat": 4,
 "nbformat_minor": 2
}
