{
 "cells": [
  {
   "cell_type": "code",
   "execution_count": null,
   "metadata": {},
   "outputs": [],
   "source": [
    "#2.2.1 theta(n^3)"
   ]
  },
  {
   "cell_type": "code",
   "execution_count": 12,
   "metadata": {},
   "outputs": [
    {
     "data": {
      "text/plain": [
       "[1, 2, 3, 4, 5, 6, 6, 324, 435]"
      ]
     },
     "execution_count": 12,
     "metadata": {},
     "output_type": "execute_result"
    }
   ],
   "source": [
    "#2.2.2select algorithms\n",
    "def select(a):\n",
    "    for i in range(len(a)):\n",
    "        min_a=a[i]\n",
    "        for j in range(i,len(a)):\n",
    "            if a[j]<min_a:\n",
    "                min_a=a[j]\n",
    "                a[i],a[j]=a[j],a[i]\n",
    "    return a\n",
    "a=[5,2,4,6,1,3,324,435,6]\n",
    "select(a)\n",
    "#loop invariant-循环不变时为 a[0:j]\n",
    "#应为a[0:j]以确定，只需对a[j:len(a)]进行遍历\n",
    "#best-time，已排好序，theta(n)\n",
    "#worst-time,逆序，theta（n^2）"
   ]
  },
  {
   "cell_type": "code",
   "execution_count": null,
   "metadata": {},
   "outputs": [],
   "source": [
    "#对于线性查找worst=cn，best=c，由于随机等可能出现在任何位置，则average=（cn+c）/2约等于c\"n,为theta（n）"
   ]
  }
 ],
 "metadata": {
  "kernelspec": {
   "display_name": "Python 3",
   "language": "python",
   "name": "python3"
  },
  "language_info": {
   "codemirror_mode": {
    "name": "ipython",
    "version": 3
   },
   "file_extension": ".py",
   "mimetype": "text/x-python",
   "name": "python",
   "nbconvert_exporter": "python",
   "pygments_lexer": "ipython3",
   "version": "3.6.8"
  }
 },
 "nbformat": 4,
 "nbformat_minor": 2
}
